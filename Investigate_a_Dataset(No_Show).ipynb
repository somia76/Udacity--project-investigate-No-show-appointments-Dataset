{
 "cells": [
  {
   "cell_type": "markdown",
   "id": "74704bfd",
   "metadata": {},
   "source": [
    "# The Medical Appointment No Shows\n",
    "### Why do 30% of patients miss their scheduled appointments?"
   ]
  },
  {
   "cell_type": "markdown",
   "id": "1033821d",
   "metadata": {},
   "source": [
    "# 1- Gathering data"
   ]
  },
  {
   "cell_type": "code",
   "execution_count": 229,
   "id": "c2783395",
   "metadata": {},
   "outputs": [],
   "source": [
    "import numpy as np\n",
    "import pandas as pd\n",
    "from datetime import datetime\n",
    "import matplotlib.pyplot as plt\n",
    "%matplotlib inline\n",
    "import seaborn as sns\n",
    "\n",
    "df = pd.read_csv(\"noshowappointments-kagglev2-may-2016.csv\")"
   ]
  },
  {
   "cell_type": "markdown",
   "id": "4124444e",
   "metadata": {},
   "source": [
    "# 2- Access"
   ]
  },
  {
   "cell_type": "code",
   "execution_count": 230,
   "id": "9ce9574b",
   "metadata": {},
   "outputs": [
    {
     "data": {
      "text/html": [
       "<div>\n",
       "<style scoped>\n",
       "    .dataframe tbody tr th:only-of-type {\n",
       "        vertical-align: middle;\n",
       "    }\n",
       "\n",
       "    .dataframe tbody tr th {\n",
       "        vertical-align: top;\n",
       "    }\n",
       "\n",
       "    .dataframe thead th {\n",
       "        text-align: right;\n",
       "    }\n",
       "</style>\n",
       "<table border=\"1\" class=\"dataframe\">\n",
       "  <thead>\n",
       "    <tr style=\"text-align: right;\">\n",
       "      <th></th>\n",
       "      <th>PatientId</th>\n",
       "      <th>AppointmentID</th>\n",
       "      <th>Gender</th>\n",
       "      <th>ScheduledDay</th>\n",
       "      <th>AppointmentDay</th>\n",
       "      <th>Age</th>\n",
       "      <th>Neighbourhood</th>\n",
       "      <th>Scholarship</th>\n",
       "      <th>Hipertension</th>\n",
       "      <th>Diabetes</th>\n",
       "      <th>Alcoholism</th>\n",
       "      <th>Handcap</th>\n",
       "      <th>SMS_received</th>\n",
       "      <th>No-show</th>\n",
       "    </tr>\n",
       "  </thead>\n",
       "  <tbody>\n",
       "    <tr>\n",
       "      <th>0</th>\n",
       "      <td>2.987250e+13</td>\n",
       "      <td>5642903</td>\n",
       "      <td>F</td>\n",
       "      <td>2016-04-29T18:38:08Z</td>\n",
       "      <td>2016-04-29T00:00:00Z</td>\n",
       "      <td>62</td>\n",
       "      <td>JARDIM DA PENHA</td>\n",
       "      <td>0</td>\n",
       "      <td>1</td>\n",
       "      <td>0</td>\n",
       "      <td>0</td>\n",
       "      <td>0</td>\n",
       "      <td>0</td>\n",
       "      <td>No</td>\n",
       "    </tr>\n",
       "    <tr>\n",
       "      <th>1</th>\n",
       "      <td>5.589978e+14</td>\n",
       "      <td>5642503</td>\n",
       "      <td>M</td>\n",
       "      <td>2016-04-29T16:08:27Z</td>\n",
       "      <td>2016-04-29T00:00:00Z</td>\n",
       "      <td>56</td>\n",
       "      <td>JARDIM DA PENHA</td>\n",
       "      <td>0</td>\n",
       "      <td>0</td>\n",
       "      <td>0</td>\n",
       "      <td>0</td>\n",
       "      <td>0</td>\n",
       "      <td>0</td>\n",
       "      <td>No</td>\n",
       "    </tr>\n",
       "    <tr>\n",
       "      <th>2</th>\n",
       "      <td>4.262962e+12</td>\n",
       "      <td>5642549</td>\n",
       "      <td>F</td>\n",
       "      <td>2016-04-29T16:19:04Z</td>\n",
       "      <td>2016-04-29T00:00:00Z</td>\n",
       "      <td>62</td>\n",
       "      <td>MATA DA PRAIA</td>\n",
       "      <td>0</td>\n",
       "      <td>0</td>\n",
       "      <td>0</td>\n",
       "      <td>0</td>\n",
       "      <td>0</td>\n",
       "      <td>0</td>\n",
       "      <td>No</td>\n",
       "    </tr>\n",
       "    <tr>\n",
       "      <th>3</th>\n",
       "      <td>8.679512e+11</td>\n",
       "      <td>5642828</td>\n",
       "      <td>F</td>\n",
       "      <td>2016-04-29T17:29:31Z</td>\n",
       "      <td>2016-04-29T00:00:00Z</td>\n",
       "      <td>8</td>\n",
       "      <td>PONTAL DE CAMBURI</td>\n",
       "      <td>0</td>\n",
       "      <td>0</td>\n",
       "      <td>0</td>\n",
       "      <td>0</td>\n",
       "      <td>0</td>\n",
       "      <td>0</td>\n",
       "      <td>No</td>\n",
       "    </tr>\n",
       "    <tr>\n",
       "      <th>4</th>\n",
       "      <td>8.841186e+12</td>\n",
       "      <td>5642494</td>\n",
       "      <td>F</td>\n",
       "      <td>2016-04-29T16:07:23Z</td>\n",
       "      <td>2016-04-29T00:00:00Z</td>\n",
       "      <td>56</td>\n",
       "      <td>JARDIM DA PENHA</td>\n",
       "      <td>0</td>\n",
       "      <td>1</td>\n",
       "      <td>1</td>\n",
       "      <td>0</td>\n",
       "      <td>0</td>\n",
       "      <td>0</td>\n",
       "      <td>No</td>\n",
       "    </tr>\n",
       "  </tbody>\n",
       "</table>\n",
       "</div>"
      ],
      "text/plain": [
       "      PatientId  AppointmentID Gender          ScheduledDay  \\\n",
       "0  2.987250e+13        5642903      F  2016-04-29T18:38:08Z   \n",
       "1  5.589978e+14        5642503      M  2016-04-29T16:08:27Z   \n",
       "2  4.262962e+12        5642549      F  2016-04-29T16:19:04Z   \n",
       "3  8.679512e+11        5642828      F  2016-04-29T17:29:31Z   \n",
       "4  8.841186e+12        5642494      F  2016-04-29T16:07:23Z   \n",
       "\n",
       "         AppointmentDay  Age      Neighbourhood  Scholarship  Hipertension  \\\n",
       "0  2016-04-29T00:00:00Z   62    JARDIM DA PENHA            0             1   \n",
       "1  2016-04-29T00:00:00Z   56    JARDIM DA PENHA            0             0   \n",
       "2  2016-04-29T00:00:00Z   62      MATA DA PRAIA            0             0   \n",
       "3  2016-04-29T00:00:00Z    8  PONTAL DE CAMBURI            0             0   \n",
       "4  2016-04-29T00:00:00Z   56    JARDIM DA PENHA            0             1   \n",
       "\n",
       "   Diabetes  Alcoholism  Handcap  SMS_received No-show  \n",
       "0         0           0        0             0      No  \n",
       "1         0           0        0             0      No  \n",
       "2         0           0        0             0      No  \n",
       "3         0           0        0             0      No  \n",
       "4         1           0        0             0      No  "
      ]
     },
     "execution_count": 230,
     "metadata": {},
     "output_type": "execute_result"
    }
   ],
   "source": [
    "df.head()"
   ]
  },
  {
   "cell_type": "code",
   "execution_count": 231,
   "id": "f078b744",
   "metadata": {},
   "outputs": [
    {
     "data": {
      "text/plain": [
       "(110527, 14)"
      ]
     },
     "execution_count": 231,
     "metadata": {},
     "output_type": "execute_result"
    }
   ],
   "source": [
    "df.shape"
   ]
  },
  {
   "cell_type": "code",
   "execution_count": 232,
   "id": "695640f1",
   "metadata": {},
   "outputs": [
    {
     "name": "stdout",
     "output_type": "stream",
     "text": [
      "<class 'pandas.core.frame.DataFrame'>\n",
      "RangeIndex: 110527 entries, 0 to 110526\n",
      "Data columns (total 14 columns):\n",
      " #   Column          Non-Null Count   Dtype  \n",
      "---  ------          --------------   -----  \n",
      " 0   PatientId       110527 non-null  float64\n",
      " 1   AppointmentID   110527 non-null  int64  \n",
      " 2   Gender          110527 non-null  object \n",
      " 3   ScheduledDay    110527 non-null  object \n",
      " 4   AppointmentDay  110527 non-null  object \n",
      " 5   Age             110527 non-null  int64  \n",
      " 6   Neighbourhood   110527 non-null  object \n",
      " 7   Scholarship     110527 non-null  int64  \n",
      " 8   Hipertension    110527 non-null  int64  \n",
      " 9   Diabetes        110527 non-null  int64  \n",
      " 10  Alcoholism      110527 non-null  int64  \n",
      " 11  Handcap         110527 non-null  int64  \n",
      " 12  SMS_received    110527 non-null  int64  \n",
      " 13  No-show         110527 non-null  object \n",
      "dtypes: float64(1), int64(8), object(5)\n",
      "memory usage: 11.8+ MB\n"
     ]
    }
   ],
   "source": [
    "df.info()"
   ]
  },
  {
   "cell_type": "code",
   "execution_count": 233,
   "id": "3037135c",
   "metadata": {},
   "outputs": [
    {
     "data": {
      "text/html": [
       "<div>\n",
       "<style scoped>\n",
       "    .dataframe tbody tr th:only-of-type {\n",
       "        vertical-align: middle;\n",
       "    }\n",
       "\n",
       "    .dataframe tbody tr th {\n",
       "        vertical-align: top;\n",
       "    }\n",
       "\n",
       "    .dataframe thead th {\n",
       "        text-align: right;\n",
       "    }\n",
       "</style>\n",
       "<table border=\"1\" class=\"dataframe\">\n",
       "  <thead>\n",
       "    <tr style=\"text-align: right;\">\n",
       "      <th></th>\n",
       "      <th>PatientId</th>\n",
       "      <th>AppointmentID</th>\n",
       "      <th>Age</th>\n",
       "      <th>Scholarship</th>\n",
       "      <th>Hipertension</th>\n",
       "      <th>Diabetes</th>\n",
       "      <th>Alcoholism</th>\n",
       "      <th>Handcap</th>\n",
       "      <th>SMS_received</th>\n",
       "    </tr>\n",
       "  </thead>\n",
       "  <tbody>\n",
       "    <tr>\n",
       "      <th>count</th>\n",
       "      <td>1.105270e+05</td>\n",
       "      <td>1.105270e+05</td>\n",
       "      <td>110527.000000</td>\n",
       "      <td>110527.000000</td>\n",
       "      <td>110527.000000</td>\n",
       "      <td>110527.000000</td>\n",
       "      <td>110527.000000</td>\n",
       "      <td>110527.000000</td>\n",
       "      <td>110527.000000</td>\n",
       "    </tr>\n",
       "    <tr>\n",
       "      <th>mean</th>\n",
       "      <td>1.474963e+14</td>\n",
       "      <td>5.675305e+06</td>\n",
       "      <td>37.088874</td>\n",
       "      <td>0.098266</td>\n",
       "      <td>0.197246</td>\n",
       "      <td>0.071865</td>\n",
       "      <td>0.030400</td>\n",
       "      <td>0.022248</td>\n",
       "      <td>0.321026</td>\n",
       "    </tr>\n",
       "    <tr>\n",
       "      <th>std</th>\n",
       "      <td>2.560949e+14</td>\n",
       "      <td>7.129575e+04</td>\n",
       "      <td>23.110205</td>\n",
       "      <td>0.297675</td>\n",
       "      <td>0.397921</td>\n",
       "      <td>0.258265</td>\n",
       "      <td>0.171686</td>\n",
       "      <td>0.161543</td>\n",
       "      <td>0.466873</td>\n",
       "    </tr>\n",
       "    <tr>\n",
       "      <th>min</th>\n",
       "      <td>3.921784e+04</td>\n",
       "      <td>5.030230e+06</td>\n",
       "      <td>-1.000000</td>\n",
       "      <td>0.000000</td>\n",
       "      <td>0.000000</td>\n",
       "      <td>0.000000</td>\n",
       "      <td>0.000000</td>\n",
       "      <td>0.000000</td>\n",
       "      <td>0.000000</td>\n",
       "    </tr>\n",
       "    <tr>\n",
       "      <th>25%</th>\n",
       "      <td>4.172614e+12</td>\n",
       "      <td>5.640286e+06</td>\n",
       "      <td>18.000000</td>\n",
       "      <td>0.000000</td>\n",
       "      <td>0.000000</td>\n",
       "      <td>0.000000</td>\n",
       "      <td>0.000000</td>\n",
       "      <td>0.000000</td>\n",
       "      <td>0.000000</td>\n",
       "    </tr>\n",
       "    <tr>\n",
       "      <th>50%</th>\n",
       "      <td>3.173184e+13</td>\n",
       "      <td>5.680573e+06</td>\n",
       "      <td>37.000000</td>\n",
       "      <td>0.000000</td>\n",
       "      <td>0.000000</td>\n",
       "      <td>0.000000</td>\n",
       "      <td>0.000000</td>\n",
       "      <td>0.000000</td>\n",
       "      <td>0.000000</td>\n",
       "    </tr>\n",
       "    <tr>\n",
       "      <th>75%</th>\n",
       "      <td>9.439172e+13</td>\n",
       "      <td>5.725524e+06</td>\n",
       "      <td>55.000000</td>\n",
       "      <td>0.000000</td>\n",
       "      <td>0.000000</td>\n",
       "      <td>0.000000</td>\n",
       "      <td>0.000000</td>\n",
       "      <td>0.000000</td>\n",
       "      <td>1.000000</td>\n",
       "    </tr>\n",
       "    <tr>\n",
       "      <th>max</th>\n",
       "      <td>9.999816e+14</td>\n",
       "      <td>5.790484e+06</td>\n",
       "      <td>115.000000</td>\n",
       "      <td>1.000000</td>\n",
       "      <td>1.000000</td>\n",
       "      <td>1.000000</td>\n",
       "      <td>1.000000</td>\n",
       "      <td>4.000000</td>\n",
       "      <td>1.000000</td>\n",
       "    </tr>\n",
       "  </tbody>\n",
       "</table>\n",
       "</div>"
      ],
      "text/plain": [
       "          PatientId  AppointmentID            Age    Scholarship  \\\n",
       "count  1.105270e+05   1.105270e+05  110527.000000  110527.000000   \n",
       "mean   1.474963e+14   5.675305e+06      37.088874       0.098266   \n",
       "std    2.560949e+14   7.129575e+04      23.110205       0.297675   \n",
       "min    3.921784e+04   5.030230e+06      -1.000000       0.000000   \n",
       "25%    4.172614e+12   5.640286e+06      18.000000       0.000000   \n",
       "50%    3.173184e+13   5.680573e+06      37.000000       0.000000   \n",
       "75%    9.439172e+13   5.725524e+06      55.000000       0.000000   \n",
       "max    9.999816e+14   5.790484e+06     115.000000       1.000000   \n",
       "\n",
       "        Hipertension       Diabetes     Alcoholism        Handcap  \\\n",
       "count  110527.000000  110527.000000  110527.000000  110527.000000   \n",
       "mean        0.197246       0.071865       0.030400       0.022248   \n",
       "std         0.397921       0.258265       0.171686       0.161543   \n",
       "min         0.000000       0.000000       0.000000       0.000000   \n",
       "25%         0.000000       0.000000       0.000000       0.000000   \n",
       "50%         0.000000       0.000000       0.000000       0.000000   \n",
       "75%         0.000000       0.000000       0.000000       0.000000   \n",
       "max         1.000000       1.000000       1.000000       4.000000   \n",
       "\n",
       "        SMS_received  \n",
       "count  110527.000000  \n",
       "mean        0.321026  \n",
       "std         0.466873  \n",
       "min         0.000000  \n",
       "25%         0.000000  \n",
       "50%         0.000000  \n",
       "75%         1.000000  \n",
       "max         1.000000  "
      ]
     },
     "execution_count": 233,
     "metadata": {},
     "output_type": "execute_result"
    }
   ],
   "source": [
    "df.describe()"
   ]
  },
  {
   "cell_type": "code",
   "execution_count": 234,
   "id": "68b7364e",
   "metadata": {},
   "outputs": [
    {
     "data": {
      "text/plain": [
       "0"
      ]
     },
     "execution_count": 234,
     "metadata": {},
     "output_type": "execute_result"
    }
   ],
   "source": [
    "#check duplacted values \n",
    "sum(df.duplicated())"
   ]
  },
  {
   "cell_type": "code",
   "execution_count": 235,
   "id": "04810edc",
   "metadata": {},
   "outputs": [
    {
     "data": {
      "text/plain": [
       "False"
      ]
     },
     "execution_count": 235,
     "metadata": {},
     "output_type": "execute_result"
    }
   ],
   "source": [
    "#check nan values \n",
    "df.isnull().sum().all()"
   ]
  },
  {
   "cell_type": "code",
   "execution_count": 236,
   "id": "cfde26e2",
   "metadata": {},
   "outputs": [
    {
     "data": {
      "text/plain": [
       "48228"
      ]
     },
     "execution_count": 236,
     "metadata": {},
     "output_type": "execute_result"
    }
   ],
   "source": [
    "#check dduplicated rows\n",
    "sum(df.PatientId.duplicated())"
   ]
  },
  {
   "cell_type": "code",
   "execution_count": 237,
   "id": "9997ff9f",
   "metadata": {},
   "outputs": [
    {
     "data": {
      "text/plain": [
       "8.221459e+14    87\n",
       "9.963767e+10    83\n",
       "2.688613e+13    69\n",
       "3.353478e+13    64\n",
       "6.264199e+12    61\n",
       "                ..\n",
       "2.539324e+14     1\n",
       "5.677162e+11     1\n",
       "2.154335e+09     1\n",
       "5.118325e+13     1\n",
       "3.775115e+14     1\n",
       "Name: PatientId, Length: 24379, dtype: int64"
      ]
     },
     "execution_count": 237,
     "metadata": {},
     "output_type": "execute_result"
    }
   ],
   "source": [
    "# check the duplicated IDs (the patients are frequent to doctors)\n",
    "id_duplicate = df[df.PatientId.duplicated() == True]\n",
    "id_duplicate.PatientId.value_counts()"
   ]
  },
  {
   "cell_type": "code",
   "execution_count": 238,
   "id": "c5877504",
   "metadata": {},
   "outputs": [
    {
     "data": {
      "text/html": [
       "<div>\n",
       "<style scoped>\n",
       "    .dataframe tbody tr th:only-of-type {\n",
       "        vertical-align: middle;\n",
       "    }\n",
       "\n",
       "    .dataframe tbody tr th {\n",
       "        vertical-align: top;\n",
       "    }\n",
       "\n",
       "    .dataframe thead th {\n",
       "        text-align: right;\n",
       "    }\n",
       "</style>\n",
       "<table border=\"1\" class=\"dataframe\">\n",
       "  <thead>\n",
       "    <tr style=\"text-align: right;\">\n",
       "      <th></th>\n",
       "      <th>PatientId</th>\n",
       "      <th>AppointmentID</th>\n",
       "      <th>Gender</th>\n",
       "      <th>ScheduledDay</th>\n",
       "      <th>AppointmentDay</th>\n",
       "      <th>Age</th>\n",
       "      <th>Neighbourhood</th>\n",
       "      <th>Scholarship</th>\n",
       "      <th>Hipertension</th>\n",
       "      <th>Diabetes</th>\n",
       "      <th>Alcoholism</th>\n",
       "      <th>Handcap</th>\n",
       "      <th>SMS_received</th>\n",
       "      <th>No-show</th>\n",
       "    </tr>\n",
       "  </thead>\n",
       "  <tbody>\n",
       "    <tr>\n",
       "      <th>99832</th>\n",
       "      <td>4.659432e+14</td>\n",
       "      <td>5775010</td>\n",
       "      <td>F</td>\n",
       "      <td>2016-06-06T08:58:13Z</td>\n",
       "      <td>2016-06-06T00:00:00Z</td>\n",
       "      <td>-1</td>\n",
       "      <td>ROMÃO</td>\n",
       "      <td>0</td>\n",
       "      <td>0</td>\n",
       "      <td>0</td>\n",
       "      <td>0</td>\n",
       "      <td>0</td>\n",
       "      <td>0</td>\n",
       "      <td>No</td>\n",
       "    </tr>\n",
       "  </tbody>\n",
       "</table>\n",
       "</div>"
      ],
      "text/plain": [
       "          PatientId  AppointmentID Gender          ScheduledDay  \\\n",
       "99832  4.659432e+14        5775010      F  2016-06-06T08:58:13Z   \n",
       "\n",
       "             AppointmentDay  Age Neighbourhood  Scholarship  Hipertension  \\\n",
       "99832  2016-06-06T00:00:00Z   -1         ROMÃO            0             0   \n",
       "\n",
       "       Diabetes  Alcoholism  Handcap  SMS_received No-show  \n",
       "99832         0           0        0             0      No  "
      ]
     },
     "execution_count": 238,
     "metadata": {},
     "output_type": "execute_result"
    }
   ],
   "source": [
    "# check if there are ages less than zero\n",
    "df[df.Age <0]"
   ]
  },
  {
   "cell_type": "code",
   "execution_count": 239,
   "id": "579003fb",
   "metadata": {},
   "outputs": [
    {
     "name": "stdout",
     "output_type": "stream",
     "text": [
      "unique values of columns Gender are :['F' 'M']\n",
      "\n",
      "unique values of columns Age are :[ 62  56   8  76  23  39  21  19  30  29  22  28  54  15  50  40  46   4\n",
      "  13  65  45  51  32  12  61  38  79  18  63  64  85  59  55  71  49  78\n",
      "  31  58  27   6   2  11   7   0   3   1  69  68  60  67  36  10  35  20\n",
      "  26  34  33  16  42   5  47  17  41  44  37  24  66  77  81  70  53  75\n",
      "  73  52  74  43  89  57  14   9  48  83  72  25  80  87  88  84  82  90\n",
      "  94  86  91  98  92  96  93  95  97 102 115 100  99  -1]\n",
      "\n",
      "unique values of columns Scholarship are :[0 1]\n",
      "\n",
      "unique values of columns Hipertension are :[1 0]\n",
      "\n",
      "unique values of columns Diabetes are :[0 1]\n",
      "\n",
      "unique values of columns Alcoholism are :[0 1]\n",
      "\n",
      "unique values of columns Handcap are :[0 1 2 3 4]\n",
      "\n",
      "unique values of columns SMS_received are :[0 1]\n",
      "\n",
      "unique values of columns No-show are :['No' 'Yes']\n",
      "\n"
     ]
    }
   ],
   "source": [
    "# check the unique values of some columns\n",
    "col=['Gender', 'Age',\n",
    "        'Scholarship', 'Hipertension', 'Diabetes',\n",
    "       'Alcoholism', 'Handcap', 'SMS_received', 'No-show']\n",
    "for i in col:\n",
    "    print(f\"unique values of columns {i} are :{df[i].unique()}\\n\")\n"
   ]
  },
  {
   "cell_type": "markdown",
   "id": "951ac492",
   "metadata": {},
   "source": [
    "# Quality\n",
    "\n",
    "- Some column-names should be changed (AppointmentID --> appointment_id ,ScheduledDay --> scheduled_day ...).\n",
    "\n",
    "- PatientId should be intger dtype (12 14 num).\n",
    "\n",
    "- Set patientid as index.\n",
    "\n",
    "- ScheduledDay should be datetime in format %y-%m-%d %H:%M:%S\n",
    "\n",
    "- AppointmentDay should be datetime \"%y-%m-%d\"\n",
    "\n",
    "- make a day difference between appointment_day and scheduled_day.\n",
    "\n",
    "- There is patient whose age equal -1 will be moved to a separate dataframe."
   ]
  },
  {
   "cell_type": "markdown",
   "id": "e84aa108",
   "metadata": {},
   "source": [
    "# 3- Cleaning"
   ]
  },
  {
   "cell_type": "code",
   "execution_count": 240,
   "id": "927972f7",
   "metadata": {},
   "outputs": [],
   "source": [
    "# rename some columns \n",
    "df.rename(columns={\"PatientId\":\"patient_id\",\"AppointmentID\":\"appointment_id\",\"ScheduledDay\":\"scheduled_day\"\n",
    "                   ,\"AppointmentDay\":\"appointment_day\",\"No-show\":\"no_show\"},inplace=True)\n",
    "df.columns = df.columns.str.lower()"
   ]
  },
  {
   "cell_type": "code",
   "execution_count": 241,
   "id": "228e25c6",
   "metadata": {},
   "outputs": [
    {
     "data": {
      "text/plain": [
       "Index(['patient_id', 'appointment_id', 'gender', 'scheduled_day',\n",
       "       'appointment_day', 'age', 'neighbourhood', 'scholarship',\n",
       "       'hipertension', 'diabetes', 'alcoholism', 'handcap', 'sms_received',\n",
       "       'no_show'],\n",
       "      dtype='object')"
      ]
     },
     "execution_count": 241,
     "metadata": {},
     "output_type": "execute_result"
    }
   ],
   "source": [
    "# test columns name  \n",
    "df.columns"
   ]
  },
  {
   "cell_type": "code",
   "execution_count": 242,
   "id": "e0622e4c",
   "metadata": {},
   "outputs": [
    {
     "data": {
      "text/plain": [
       "dtype('int64')"
      ]
     },
     "execution_count": 242,
     "metadata": {},
     "output_type": "execute_result"
    }
   ],
   "source": [
    "#  convert Patient_Id into intger \n",
    "df.patient_id = df.patient_id.astype(np.int64)\n",
    "df.patient_id.dtype"
   ]
  },
  {
   "cell_type": "code",
   "execution_count": 243,
   "id": "b0cec2ee",
   "metadata": {},
   "outputs": [],
   "source": [
    "# make patient_id  as index and drop duplicated colunm\n",
    "df = df.set_index(df.patient_id)\n",
    "df = df.drop('patient_id',axis=1)"
   ]
  },
  {
   "cell_type": "code",
   "execution_count": 244,
   "id": "f59cd2fe",
   "metadata": {},
   "outputs": [
    {
     "data": {
      "text/plain": [
       "array(['female', 'male'], dtype=object)"
      ]
     },
     "execution_count": 244,
     "metadata": {},
     "output_type": "execute_result"
    }
   ],
   "source": [
    "# set gender male instead of M and female instead of F \n",
    "\n",
    "df.gender = df.gender.apply(lambda male : male.replace(\"M\",\"male\"))\n",
    "df.gender = df.gender.apply(lambda female : female.replace(\"F\",\"female\"))\n",
    "df.gender.unique()"
   ]
  },
  {
   "cell_type": "code",
   "execution_count": 245,
   "id": "35913bf2",
   "metadata": {},
   "outputs": [],
   "source": [
    "## split appointment_day to only date  and convert it into to datetime  \n",
    "df.appointment_day = df.appointment_day.apply(lambda x : x.split('T')[0])\n",
    "df['appointment_day'] = pd.to_datetime(df['appointment_day'])"
   ]
  },
  {
   "cell_type": "code",
   "execution_count": 246,
   "id": "c930b384",
   "metadata": {},
   "outputs": [
    {
     "data": {
      "text/html": [
       "<div>\n",
       "<style scoped>\n",
       "    .dataframe tbody tr th:only-of-type {\n",
       "        vertical-align: middle;\n",
       "    }\n",
       "\n",
       "    .dataframe tbody tr th {\n",
       "        vertical-align: top;\n",
       "    }\n",
       "\n",
       "    .dataframe thead th {\n",
       "        text-align: right;\n",
       "    }\n",
       "</style>\n",
       "<table border=\"1\" class=\"dataframe\">\n",
       "  <thead>\n",
       "    <tr style=\"text-align: right;\">\n",
       "      <th></th>\n",
       "      <th>appointment_id</th>\n",
       "      <th>gender</th>\n",
       "      <th>scheduled_day</th>\n",
       "      <th>appointment_day</th>\n",
       "      <th>age</th>\n",
       "      <th>neighbourhood</th>\n",
       "      <th>day_difference</th>\n",
       "      <th>scholarship</th>\n",
       "      <th>hipertension</th>\n",
       "      <th>diabetes</th>\n",
       "      <th>alcoholism</th>\n",
       "      <th>handcap</th>\n",
       "      <th>sms_received</th>\n",
       "      <th>no_show</th>\n",
       "    </tr>\n",
       "    <tr>\n",
       "      <th>patient_id</th>\n",
       "      <th></th>\n",
       "      <th></th>\n",
       "      <th></th>\n",
       "      <th></th>\n",
       "      <th></th>\n",
       "      <th></th>\n",
       "      <th></th>\n",
       "      <th></th>\n",
       "      <th></th>\n",
       "      <th></th>\n",
       "      <th></th>\n",
       "      <th></th>\n",
       "      <th></th>\n",
       "      <th></th>\n",
       "    </tr>\n",
       "  </thead>\n",
       "  <tbody>\n",
       "    <tr>\n",
       "      <th>2572134369293</th>\n",
       "      <td>5651768</td>\n",
       "      <td>female</td>\n",
       "      <td>2016-05-03</td>\n",
       "      <td>2016-06-07</td>\n",
       "      <td>56</td>\n",
       "      <td>MARIA ORTIZ</td>\n",
       "      <td>35</td>\n",
       "      <td>0</td>\n",
       "      <td>0</td>\n",
       "      <td>0</td>\n",
       "      <td>0</td>\n",
       "      <td>0</td>\n",
       "      <td>1</td>\n",
       "      <td>No</td>\n",
       "    </tr>\n",
       "    <tr>\n",
       "      <th>3596266328735</th>\n",
       "      <td>5650093</td>\n",
       "      <td>female</td>\n",
       "      <td>2016-05-03</td>\n",
       "      <td>2016-06-07</td>\n",
       "      <td>51</td>\n",
       "      <td>MARIA ORTIZ</td>\n",
       "      <td>35</td>\n",
       "      <td>0</td>\n",
       "      <td>0</td>\n",
       "      <td>0</td>\n",
       "      <td>0</td>\n",
       "      <td>0</td>\n",
       "      <td>1</td>\n",
       "      <td>No</td>\n",
       "    </tr>\n",
       "    <tr>\n",
       "      <th>15576631729893</th>\n",
       "      <td>5630692</td>\n",
       "      <td>female</td>\n",
       "      <td>2016-04-27</td>\n",
       "      <td>2016-06-07</td>\n",
       "      <td>21</td>\n",
       "      <td>MARIA ORTIZ</td>\n",
       "      <td>41</td>\n",
       "      <td>0</td>\n",
       "      <td>0</td>\n",
       "      <td>0</td>\n",
       "      <td>0</td>\n",
       "      <td>0</td>\n",
       "      <td>1</td>\n",
       "      <td>No</td>\n",
       "    </tr>\n",
       "    <tr>\n",
       "      <th>92134931435557</th>\n",
       "      <td>5630323</td>\n",
       "      <td>female</td>\n",
       "      <td>2016-04-27</td>\n",
       "      <td>2016-06-07</td>\n",
       "      <td>38</td>\n",
       "      <td>MARIA ORTIZ</td>\n",
       "      <td>41</td>\n",
       "      <td>0</td>\n",
       "      <td>0</td>\n",
       "      <td>0</td>\n",
       "      <td>0</td>\n",
       "      <td>0</td>\n",
       "      <td>1</td>\n",
       "      <td>No</td>\n",
       "    </tr>\n",
       "    <tr>\n",
       "      <th>377511518121127</th>\n",
       "      <td>5629448</td>\n",
       "      <td>female</td>\n",
       "      <td>2016-04-27</td>\n",
       "      <td>2016-06-07</td>\n",
       "      <td>54</td>\n",
       "      <td>MARIA ORTIZ</td>\n",
       "      <td>41</td>\n",
       "      <td>0</td>\n",
       "      <td>0</td>\n",
       "      <td>0</td>\n",
       "      <td>0</td>\n",
       "      <td>0</td>\n",
       "      <td>1</td>\n",
       "      <td>No</td>\n",
       "    </tr>\n",
       "  </tbody>\n",
       "</table>\n",
       "</div>"
      ],
      "text/plain": [
       "                 appointment_id  gender scheduled_day appointment_day  age  \\\n",
       "patient_id                                                                   \n",
       "2572134369293           5651768  female    2016-05-03      2016-06-07   56   \n",
       "3596266328735           5650093  female    2016-05-03      2016-06-07   51   \n",
       "15576631729893          5630692  female    2016-04-27      2016-06-07   21   \n",
       "92134931435557          5630323  female    2016-04-27      2016-06-07   38   \n",
       "377511518121127         5629448  female    2016-04-27      2016-06-07   54   \n",
       "\n",
       "                neighbourhood  day_difference  scholarship  hipertension  \\\n",
       "patient_id                                                                 \n",
       "2572134369293     MARIA ORTIZ              35            0             0   \n",
       "3596266328735     MARIA ORTIZ              35            0             0   \n",
       "15576631729893    MARIA ORTIZ              41            0             0   \n",
       "92134931435557    MARIA ORTIZ              41            0             0   \n",
       "377511518121127   MARIA ORTIZ              41            0             0   \n",
       "\n",
       "                 diabetes  alcoholism  handcap  sms_received no_show  \n",
       "patient_id                                                            \n",
       "2572134369293           0           0        0             1      No  \n",
       "3596266328735           0           0        0             1      No  \n",
       "15576631729893          0           0        0             1      No  \n",
       "92134931435557          0           0        0             1      No  \n",
       "377511518121127         0           0        0             1      No  "
      ]
     },
     "execution_count": 246,
     "metadata": {},
     "output_type": "execute_result"
    }
   ],
   "source": [
    "# split scheduled_day to day and time :\n",
    "df.scheduled_day = df.scheduled_day.apply(lambda x : x.split('T')[0])\n",
    "\n",
    "# convert scheduled_day to datatime :\n",
    "df['scheduled_day'] = pd.to_datetime(df['scheduled_day'])\n",
    "\n",
    "# day_difference between appointment_day and scheduled_day :\n",
    "df['day_difference'] =  df['appointment_day'] - df['scheduled_day'] \n",
    "df['day_difference'] = df.day_difference.astype(str).apply(lambda x :x.split(' ')[0]).astype(int)\n",
    "df.insert(6,\"day_difference\",df.pop(\"day_difference\"))\n",
    "\n",
    "## check change: \n",
    "df.tail()"
   ]
  },
  {
   "cell_type": "code",
   "execution_count": 247,
   "id": "0cf64586",
   "metadata": {},
   "outputs": [
    {
     "name": "stdout",
     "output_type": "stream",
     "text": [
      "<class 'pandas.core.frame.DataFrame'>\n",
      "Int64Index: 110527 entries, 29872499824296 to 377511518121127\n",
      "Data columns (total 14 columns):\n",
      " #   Column           Non-Null Count   Dtype         \n",
      "---  ------           --------------   -----         \n",
      " 0   appointment_id   110527 non-null  int64         \n",
      " 1   gender           110527 non-null  object        \n",
      " 2   scheduled_day    110527 non-null  datetime64[ns]\n",
      " 3   appointment_day  110527 non-null  datetime64[ns]\n",
      " 4   age              110527 non-null  int64         \n",
      " 5   neighbourhood    110527 non-null  object        \n",
      " 6   day_difference   110527 non-null  int32         \n",
      " 7   scholarship      110527 non-null  int64         \n",
      " 8   hipertension     110527 non-null  int64         \n",
      " 9   diabetes         110527 non-null  int64         \n",
      " 10  alcoholism       110527 non-null  int64         \n",
      " 11  handcap          110527 non-null  int64         \n",
      " 12  sms_received     110527 non-null  int64         \n",
      " 13  no_show          110527 non-null  object        \n",
      "dtypes: datetime64[ns](2), int32(1), int64(8), object(3)\n",
      "memory usage: 12.2+ MB\n"
     ]
    }
   ],
   "source": [
    "# test change :\n",
    "df.info()"
   ]
  },
  {
   "cell_type": "code",
   "execution_count": 248,
   "id": "785a49dd",
   "metadata": {},
   "outputs": [],
   "source": [
    "# change the age -1 of patient to 0 \n",
    "df.drop(465943158731293, inplace=True)"
   ]
  },
  {
   "cell_type": "markdown",
   "id": "855dcfde",
   "metadata": {},
   "source": [
    "# 4- Explore the dataset :"
   ]
  },
  {
   "cell_type": "code",
   "execution_count": 249,
   "id": "784681aa",
   "metadata": {},
   "outputs": [],
   "source": [
    "## This function is to write labels on axis.\n",
    "\n",
    "def write_text_on_axis(xlabel,ylabel,title): \n",
    "    \"\"\" this functios is used to take \n",
    "     (str)  xlabel  string to write it on x-axis of plot \n",
    "     (str)  ylabel  string to write it on y-axis of plot \n",
    "     (str)  title   string to make it as title of plot \n",
    "    \n",
    "    \"\"\"\n",
    "    plt.xlabel(xlabel) \n",
    "    plt.ylabel(ylabel,fontsize=13)\n",
    "    plt.title(title)"
   ]
  },
  {
   "cell_type": "markdown",
   "id": "db253663",
   "metadata": {},
   "source": [
    "### What factors are important for us to know in order to predict if a patient will show up for their scheduled appointment?\n"
   ]
  },
  {
   "cell_type": "code",
   "execution_count": 250,
   "id": "afcfea93",
   "metadata": {},
   "outputs": [
    {
     "data": {
      "text/html": [
       "<div>\n",
       "<style scoped>\n",
       "    .dataframe tbody tr th:only-of-type {\n",
       "        vertical-align: middle;\n",
       "    }\n",
       "\n",
       "    .dataframe tbody tr th {\n",
       "        vertical-align: top;\n",
       "    }\n",
       "\n",
       "    .dataframe thead th {\n",
       "        text-align: right;\n",
       "    }\n",
       "</style>\n",
       "<table border=\"1\" class=\"dataframe\">\n",
       "  <thead>\n",
       "    <tr style=\"text-align: right;\">\n",
       "      <th></th>\n",
       "      <th>appointment_id</th>\n",
       "      <th>age</th>\n",
       "      <th>day_difference</th>\n",
       "      <th>scholarship</th>\n",
       "      <th>hipertension</th>\n",
       "      <th>diabetes</th>\n",
       "      <th>alcoholism</th>\n",
       "      <th>handcap</th>\n",
       "      <th>sms_received</th>\n",
       "    </tr>\n",
       "  </thead>\n",
       "  <tbody>\n",
       "    <tr>\n",
       "      <th>count</th>\n",
       "      <td>88207.000</td>\n",
       "      <td>88207.000</td>\n",
       "      <td>88207.000</td>\n",
       "      <td>88207.000</td>\n",
       "      <td>88207.000</td>\n",
       "      <td>88207.000</td>\n",
       "      <td>88207.000</td>\n",
       "      <td>88207.000</td>\n",
       "      <td>88207.000</td>\n",
       "    </tr>\n",
       "    <tr>\n",
       "      <th>mean</th>\n",
       "      <td>5681135.438</td>\n",
       "      <td>37.791</td>\n",
       "      <td>8.755</td>\n",
       "      <td>0.094</td>\n",
       "      <td>0.204</td>\n",
       "      <td>0.074</td>\n",
       "      <td>0.030</td>\n",
       "      <td>0.023</td>\n",
       "      <td>0.291</td>\n",
       "    </tr>\n",
       "    <tr>\n",
       "      <th>std</th>\n",
       "      <td>69311.926</td>\n",
       "      <td>23.339</td>\n",
       "      <td>14.550</td>\n",
       "      <td>0.292</td>\n",
       "      <td>0.403</td>\n",
       "      <td>0.262</td>\n",
       "      <td>0.172</td>\n",
       "      <td>0.163</td>\n",
       "      <td>0.454</td>\n",
       "    </tr>\n",
       "    <tr>\n",
       "      <th>min</th>\n",
       "      <td>5030230.000</td>\n",
       "      <td>0.000</td>\n",
       "      <td>0.000</td>\n",
       "      <td>0.000</td>\n",
       "      <td>0.000</td>\n",
       "      <td>0.000</td>\n",
       "      <td>0.000</td>\n",
       "      <td>0.000</td>\n",
       "      <td>0.000</td>\n",
       "    </tr>\n",
       "    <tr>\n",
       "      <th>25%</th>\n",
       "      <td>5646217.500</td>\n",
       "      <td>18.000</td>\n",
       "      <td>0.000</td>\n",
       "      <td>0.000</td>\n",
       "      <td>0.000</td>\n",
       "      <td>0.000</td>\n",
       "      <td>0.000</td>\n",
       "      <td>0.000</td>\n",
       "      <td>0.000</td>\n",
       "    </tr>\n",
       "    <tr>\n",
       "      <th>50%</th>\n",
       "      <td>5685683.000</td>\n",
       "      <td>38.000</td>\n",
       "      <td>2.000</td>\n",
       "      <td>0.000</td>\n",
       "      <td>0.000</td>\n",
       "      <td>0.000</td>\n",
       "      <td>0.000</td>\n",
       "      <td>0.000</td>\n",
       "      <td>0.000</td>\n",
       "    </tr>\n",
       "    <tr>\n",
       "      <th>75%</th>\n",
       "      <td>5731077.500</td>\n",
       "      <td>56.000</td>\n",
       "      <td>12.000</td>\n",
       "      <td>0.000</td>\n",
       "      <td>0.000</td>\n",
       "      <td>0.000</td>\n",
       "      <td>0.000</td>\n",
       "      <td>0.000</td>\n",
       "      <td>1.000</td>\n",
       "    </tr>\n",
       "    <tr>\n",
       "      <th>max</th>\n",
       "      <td>5790484.000</td>\n",
       "      <td>115.000</td>\n",
       "      <td>179.000</td>\n",
       "      <td>1.000</td>\n",
       "      <td>1.000</td>\n",
       "      <td>1.000</td>\n",
       "      <td>1.000</td>\n",
       "      <td>4.000</td>\n",
       "      <td>1.000</td>\n",
       "    </tr>\n",
       "  </tbody>\n",
       "</table>\n",
       "</div>"
      ],
      "text/plain": [
       "       appointment_id        age  day_difference  scholarship  hipertension  \\\n",
       "count       88207.000  88207.000       88207.000    88207.000     88207.000   \n",
       "mean      5681135.438     37.791           8.755        0.094         0.204   \n",
       "std         69311.926     23.339          14.550        0.292         0.403   \n",
       "min       5030230.000      0.000           0.000        0.000         0.000   \n",
       "25%       5646217.500     18.000           0.000        0.000         0.000   \n",
       "50%       5685683.000     38.000           2.000        0.000         0.000   \n",
       "75%       5731077.500     56.000          12.000        0.000         0.000   \n",
       "max       5790484.000    115.000         179.000        1.000         1.000   \n",
       "\n",
       "        diabetes  alcoholism    handcap  sms_received  \n",
       "count  88207.000   88207.000  88207.000     88207.000  \n",
       "mean       0.074       0.030      0.023         0.291  \n",
       "std        0.262       0.172      0.163         0.454  \n",
       "min        0.000       0.000      0.000         0.000  \n",
       "25%        0.000       0.000      0.000         0.000  \n",
       "50%        0.000       0.000      0.000         0.000  \n",
       "75%        0.000       0.000      0.000         1.000  \n",
       "max        1.000       1.000      4.000         1.000  "
      ]
     },
     "execution_count": 250,
     "metadata": {},
     "output_type": "execute_result"
    }
   ],
   "source": [
    "show_up_data = df.query(\"no_show =='No'\")\n",
    "show_up_data.describe().round(3) # get describe of different factor related to no show"
   ]
  },
  {
   "cell_type": "code",
   "execution_count": 251,
   "id": "48ab2c48",
   "metadata": {},
   "outputs": [],
   "source": [
    "# Summary of patient's age :"
   ]
  },
  {
   "cell_type": "code",
   "execution_count": 252,
   "id": "0917ad2b",
   "metadata": {},
   "outputs": [
    {
     "data": {
      "text/plain": [
       "count    110526.000000\n",
       "mean         37.089219\n",
       "std          23.110026\n",
       "min           0.000000\n",
       "25%          18.000000\n",
       "50%          37.000000\n",
       "75%          55.000000\n",
       "max         115.000000\n",
       "Name: age, dtype: float64"
      ]
     },
     "execution_count": 252,
     "metadata": {},
     "output_type": "execute_result"
    }
   ],
   "source": [
    "# describe of ages\n",
    "df.age.describe()"
   ]
  },
  {
   "cell_type": "code",
   "execution_count": 253,
   "id": "77a5afb9",
   "metadata": {},
   "outputs": [
    {
     "data": {
      "image/png": "[encoded data removed]",
      "text/plain": [
       "<Figure size 432x288 with 1 Axes>"
      ]
     },
     "metadata": {
      "needs_background": "light"
     },
     "output_type": "display_data"
    }
   ],
   "source": [
    "df.age.plot(kind=\"box\",fontsize=20) # to draw age summary as box plot \n",
    "write_text_on_axis(\" \",\"Ages\",\"Patient age summary\") "
   ]
  },
  {
   "cell_type": "markdown",
   "id": "27955b0d",
   "metadata": {},
   "source": [
    "- The range of ages from __0 to 102__ years old. And the average age is about __38 years__."
   ]
  },
  {
   "cell_type": "markdown",
   "id": "9ada54c7",
   "metadata": {},
   "source": [
    "### What is the life stage have maximum number of patients?"
   ]
  },
  {
   "cell_type": "markdown",
   "id": "929bb278",
   "metadata": {},
   "source": [
    "Spliting  __age__  into life stage according to that :\n",
    "- Infant = 0-1 year\n",
    "- Toddler = 2-4 yrs\n",
    "- Child = 5-12 yrs\n",
    "- Teen = 13-19 yrs\n",
    "- Adult = 20-39 yrs\n",
    "- Middle Age Adult = 40-59 yrs\n",
    "- Senior Adult = 60+"
   ]
  },
  {
   "cell_type": "code",
   "execution_count": 254,
   "id": "10706523",
   "metadata": {},
   "outputs": [],
   "source": [
    "# Columns identify the life stage of patient\n",
    "bins=[0,1,4,12,19,39,59,102] \n",
    "labels=[\"Infant\",\"Toddler\",\"Child\",\"Teen\",\"Adult\",\"Middle Age Adult\",\"Senior Adult\"]\n",
    "df.insert(5,\"life_stage\",pd.cut(df.age, bins=bins, labels=labels,include_lowest=True))"
   ]
  },
  {
   "cell_type": "code",
   "execution_count": 255,
   "id": "ffac22b4",
   "metadata": {},
   "outputs": [
    {
     "data": {
      "text/html": [
       "<div>\n",
       "<style scoped>\n",
       "    .dataframe tbody tr th:only-of-type {\n",
       "        vertical-align: middle;\n",
       "    }\n",
       "\n",
       "    .dataframe tbody tr th {\n",
       "        vertical-align: top;\n",
       "    }\n",
       "\n",
       "    .dataframe thead th {\n",
       "        text-align: right;\n",
       "    }\n",
       "</style>\n",
       "<table border=\"1\" class=\"dataframe\">\n",
       "  <thead>\n",
       "    <tr style=\"text-align: right;\">\n",
       "      <th></th>\n",
       "      <th>appointment_id</th>\n",
       "      <th>gender</th>\n",
       "      <th>scheduled_day</th>\n",
       "      <th>appointment_day</th>\n",
       "      <th>age</th>\n",
       "      <th>life_stage</th>\n",
       "      <th>neighbourhood</th>\n",
       "      <th>day_difference</th>\n",
       "      <th>scholarship</th>\n",
       "      <th>hipertension</th>\n",
       "      <th>diabetes</th>\n",
       "      <th>alcoholism</th>\n",
       "      <th>handcap</th>\n",
       "      <th>sms_received</th>\n",
       "      <th>no_show</th>\n",
       "    </tr>\n",
       "    <tr>\n",
       "      <th>patient_id</th>\n",
       "      <th></th>\n",
       "      <th></th>\n",
       "      <th></th>\n",
       "      <th></th>\n",
       "      <th></th>\n",
       "      <th></th>\n",
       "      <th></th>\n",
       "      <th></th>\n",
       "      <th></th>\n",
       "      <th></th>\n",
       "      <th></th>\n",
       "      <th></th>\n",
       "      <th></th>\n",
       "      <th></th>\n",
       "      <th></th>\n",
       "    </tr>\n",
       "  </thead>\n",
       "  <tbody>\n",
       "    <tr>\n",
       "      <th>39217</th>\n",
       "      <td>1</td>\n",
       "      <td>1</td>\n",
       "      <td>1</td>\n",
       "      <td>1</td>\n",
       "      <td>1</td>\n",
       "      <td>1</td>\n",
       "      <td>1</td>\n",
       "      <td>1</td>\n",
       "      <td>1</td>\n",
       "      <td>1</td>\n",
       "      <td>1</td>\n",
       "      <td>1</td>\n",
       "      <td>1</td>\n",
       "      <td>1</td>\n",
       "      <td>1</td>\n",
       "    </tr>\n",
       "    <tr>\n",
       "      <th>52935456929325</th>\n",
       "      <td>1</td>\n",
       "      <td>1</td>\n",
       "      <td>1</td>\n",
       "      <td>1</td>\n",
       "      <td>1</td>\n",
       "      <td>1</td>\n",
       "      <td>1</td>\n",
       "      <td>1</td>\n",
       "      <td>1</td>\n",
       "      <td>1</td>\n",
       "      <td>1</td>\n",
       "      <td>1</td>\n",
       "      <td>1</td>\n",
       "      <td>1</td>\n",
       "      <td>1</td>\n",
       "    </tr>\n",
       "    <tr>\n",
       "      <th>52952868183536</th>\n",
       "      <td>1</td>\n",
       "      <td>1</td>\n",
       "      <td>1</td>\n",
       "      <td>1</td>\n",
       "      <td>1</td>\n",
       "      <td>1</td>\n",
       "      <td>1</td>\n",
       "      <td>1</td>\n",
       "      <td>1</td>\n",
       "      <td>1</td>\n",
       "      <td>1</td>\n",
       "      <td>1</td>\n",
       "      <td>1</td>\n",
       "      <td>1</td>\n",
       "      <td>1</td>\n",
       "    </tr>\n",
       "    <tr>\n",
       "      <th>52957198984263</th>\n",
       "      <td>1</td>\n",
       "      <td>1</td>\n",
       "      <td>1</td>\n",
       "      <td>1</td>\n",
       "      <td>1</td>\n",
       "      <td>1</td>\n",
       "      <td>1</td>\n",
       "      <td>1</td>\n",
       "      <td>1</td>\n",
       "      <td>1</td>\n",
       "      <td>1</td>\n",
       "      <td>1</td>\n",
       "      <td>1</td>\n",
       "      <td>1</td>\n",
       "      <td>1</td>\n",
       "    </tr>\n",
       "    <tr>\n",
       "      <th>52965818364153</th>\n",
       "      <td>1</td>\n",
       "      <td>1</td>\n",
       "      <td>1</td>\n",
       "      <td>1</td>\n",
       "      <td>1</td>\n",
       "      <td>1</td>\n",
       "      <td>1</td>\n",
       "      <td>1</td>\n",
       "      <td>1</td>\n",
       "      <td>1</td>\n",
       "      <td>1</td>\n",
       "      <td>1</td>\n",
       "      <td>1</td>\n",
       "      <td>1</td>\n",
       "      <td>1</td>\n",
       "    </tr>\n",
       "    <tr>\n",
       "      <th>...</th>\n",
       "      <td>...</td>\n",
       "      <td>...</td>\n",
       "      <td>...</td>\n",
       "      <td>...</td>\n",
       "      <td>...</td>\n",
       "      <td>...</td>\n",
       "      <td>...</td>\n",
       "      <td>...</td>\n",
       "      <td>...</td>\n",
       "      <td>...</td>\n",
       "      <td>...</td>\n",
       "      <td>...</td>\n",
       "      <td>...</td>\n",
       "      <td>...</td>\n",
       "      <td>...</td>\n",
       "    </tr>\n",
       "    <tr>\n",
       "      <th>75797461494159</th>\n",
       "      <td>62</td>\n",
       "      <td>62</td>\n",
       "      <td>62</td>\n",
       "      <td>62</td>\n",
       "      <td>62</td>\n",
       "      <td>62</td>\n",
       "      <td>62</td>\n",
       "      <td>62</td>\n",
       "      <td>62</td>\n",
       "      <td>62</td>\n",
       "      <td>62</td>\n",
       "      <td>62</td>\n",
       "      <td>62</td>\n",
       "      <td>62</td>\n",
       "      <td>62</td>\n",
       "    </tr>\n",
       "    <tr>\n",
       "      <th>33534783483176</th>\n",
       "      <td>65</td>\n",
       "      <td>65</td>\n",
       "      <td>65</td>\n",
       "      <td>65</td>\n",
       "      <td>65</td>\n",
       "      <td>65</td>\n",
       "      <td>65</td>\n",
       "      <td>65</td>\n",
       "      <td>65</td>\n",
       "      <td>65</td>\n",
       "      <td>65</td>\n",
       "      <td>65</td>\n",
       "      <td>65</td>\n",
       "      <td>65</td>\n",
       "      <td>65</td>\n",
       "    </tr>\n",
       "    <tr>\n",
       "      <th>26886125921145</th>\n",
       "      <td>70</td>\n",
       "      <td>70</td>\n",
       "      <td>70</td>\n",
       "      <td>70</td>\n",
       "      <td>70</td>\n",
       "      <td>70</td>\n",
       "      <td>70</td>\n",
       "      <td>70</td>\n",
       "      <td>70</td>\n",
       "      <td>70</td>\n",
       "      <td>70</td>\n",
       "      <td>70</td>\n",
       "      <td>70</td>\n",
       "      <td>70</td>\n",
       "      <td>70</td>\n",
       "    </tr>\n",
       "    <tr>\n",
       "      <th>99637671331</th>\n",
       "      <td>84</td>\n",
       "      <td>84</td>\n",
       "      <td>84</td>\n",
       "      <td>84</td>\n",
       "      <td>84</td>\n",
       "      <td>84</td>\n",
       "      <td>84</td>\n",
       "      <td>84</td>\n",
       "      <td>84</td>\n",
       "      <td>84</td>\n",
       "      <td>84</td>\n",
       "      <td>84</td>\n",
       "      <td>84</td>\n",
       "      <td>84</td>\n",
       "      <td>84</td>\n",
       "    </tr>\n",
       "    <tr>\n",
       "      <th>822145925426128</th>\n",
       "      <td>88</td>\n",
       "      <td>88</td>\n",
       "      <td>88</td>\n",
       "      <td>88</td>\n",
       "      <td>88</td>\n",
       "      <td>88</td>\n",
       "      <td>88</td>\n",
       "      <td>88</td>\n",
       "      <td>88</td>\n",
       "      <td>88</td>\n",
       "      <td>88</td>\n",
       "      <td>88</td>\n",
       "      <td>88</td>\n",
       "      <td>88</td>\n",
       "      <td>88</td>\n",
       "    </tr>\n",
       "  </tbody>\n",
       "</table>\n",
       "<p>62298 rows × 15 columns</p>\n",
       "</div>"
      ],
      "text/plain": [
       "                 appointment_id  gender  scheduled_day  appointment_day  age  \\\n",
       "patient_id                                                                     \n",
       "39217                         1       1              1                1    1   \n",
       "52935456929325                1       1              1                1    1   \n",
       "52952868183536                1       1              1                1    1   \n",
       "52957198984263                1       1              1                1    1   \n",
       "52965818364153                1       1              1                1    1   \n",
       "...                         ...     ...            ...              ...  ...   \n",
       "75797461494159               62      62             62               62   62   \n",
       "33534783483176               65      65             65               65   65   \n",
       "26886125921145               70      70             70               70   70   \n",
       "99637671331                  84      84             84               84   84   \n",
       "822145925426128              88      88             88               88   88   \n",
       "\n",
       "                 life_stage  neighbourhood  day_difference  scholarship  \\\n",
       "patient_id                                                                \n",
       "39217                     1              1               1            1   \n",
       "52935456929325            1              1               1            1   \n",
       "52952868183536            1              1               1            1   \n",
       "52957198984263            1              1               1            1   \n",
       "52965818364153            1              1               1            1   \n",
       "...                     ...            ...             ...          ...   \n",
       "75797461494159           62             62              62           62   \n",
       "33534783483176           65             65              65           65   \n",
       "26886125921145           70             70              70           70   \n",
       "99637671331              84             84              84           84   \n",
       "822145925426128          88             88              88           88   \n",
       "\n",
       "                 hipertension  diabetes  alcoholism  handcap  sms_received  \\\n",
       "patient_id                                                                   \n",
       "39217                       1         1           1        1             1   \n",
       "52935456929325              1         1           1        1             1   \n",
       "52952868183536              1         1           1        1             1   \n",
       "52957198984263              1         1           1        1             1   \n",
       "52965818364153              1         1           1        1             1   \n",
       "...                       ...       ...         ...      ...           ...   \n",
       "75797461494159             62        62          62       62            62   \n",
       "33534783483176             65        65          65       65            65   \n",
       "26886125921145             70        70          70       70            70   \n",
       "99637671331                84        84          84       84            84   \n",
       "822145925426128            88        88          88       88            88   \n",
       "\n",
       "                 no_show  \n",
       "patient_id                \n",
       "39217                  1  \n",
       "52935456929325         1  \n",
       "52952868183536         1  \n",
       "52957198984263         1  \n",
       "52965818364153         1  \n",
       "...                  ...  \n",
       "75797461494159        62  \n",
       "33534783483176        65  \n",
       "26886125921145        70  \n",
       "99637671331           84  \n",
       "822145925426128       88  \n",
       "\n",
       "[62298 rows x 15 columns]"
      ]
     },
     "execution_count": 255,
     "metadata": {},
     "output_type": "execute_result"
    }
   ],
   "source": [
    "df.groupby(\"patient_id\").count().sort_values(by=\"appointment_id\")"
   ]
  },
  {
   "cell_type": "code",
   "execution_count": 256,
   "id": "bebf6a1d",
   "metadata": {},
   "outputs": [
    {
     "data": {
      "image/png": "[encoded data removed]",
      "text/plain": [
       "<Figure size 500x500 with 1 Axes>"
      ]
     },
     "metadata": {},
     "output_type": "display_data"
    }
   ],
   "source": [
    "plt.figure(figsize=(5,5),dpi=100)\n",
    "AGE_lifstyle=df.groupby(\"life_stage\").count()[\"appointment_id\"]  # to get num of life stage in every data \n",
    "plt.pie(AGE_lifstyle, labels=labels, autopct=\"%.1f%%\");  # to make pie plot\n",
    "plt.title(\"Percentage of patients life stages\");"
   ]
  },
  {
   "cell_type": "code",
   "execution_count": 257,
   "id": "e856b537",
   "metadata": {},
   "outputs": [
    {
     "data": {
      "image/png": "[encoded data removed]",
      "text/plain": [
       "<Figure size 500x500 with 1 Axes>"
      ]
     },
     "metadata": {
      "needs_background": "light"
     },
     "output_type": "display_data"
    }
   ],
   "source": [
    "plt.figure(figsize=(5,5),dpi=100)\n",
    "a = df.gender.value_counts()/1000\n",
    "a.plot(kind='bar',rot=0);\n",
    "\n",
    "write_text_on_axis(\"Gender\",\"number of patients (thousands)\",\"Number of males and females\")"
   ]
  },
  {
   "cell_type": "markdown",
   "id": "2aab8750",
   "metadata": {},
   "source": [
    "### What is the relationship between different diseases and patients life stage?\n",
    "                ('hipertension', 'diabetes', 'alcoholism', 'handcap')"
   ]
  },
  {
   "cell_type": "code",
   "execution_count": 258,
   "id": "1f5058cf",
   "metadata": {},
   "outputs": [],
   "source": [
    "def illnes_and_life_style(illness): \n",
    "    \n",
    "    ''' \n",
    "    plots relation of illness and life stage?\n",
    "    this function  is used for get data of patients\n",
    "    disease to get the percentage  \n",
    "    of patients with it and patients without it  for each life stage then draw a bar chart for this\n",
    "    \n",
    "    \n",
    "    (str) illness     string of  illness to get the percentage  of patients with it  and patients without it \n",
    "    ''' \n",
    "    temp = df.copy()                        # get copy of dataframe  for not modifing the  orginal data\n",
    "    temp[f\"has {illness}\"]=df[illness]!=0   # make a columns to check the patiens have specific disease or not \n",
    "    \n",
    "    # get the precentage of each life stage have specific disease  and precentage of not having \n",
    "    illness_num_lifestage=temp.groupby(\"life_stage\")[f\"has {illness}\"].value_counts(normalize=True).mul(100).unstack() \n",
    "    # make a bar chart between lif stage and precentage \n",
    "    illness_num_lifestage.plot.bar(edgecolor=\"black\",rot=0,width=.8,stacked=True,figsize=[14,4])\n",
    "    # to write good strings on axis xlabel andd ylabel and title \n",
    "    write_text_on_axis(\"life stage\",\"percentage\",f\"Life stages of {illness} patients\") "
   ]
  },
  {
   "cell_type": "code",
   "execution_count": 259,
   "id": "1bc919cf",
   "metadata": {},
   "outputs": [
    {
     "data": {
      "image/png": "[encoded data removed]",
      "text/plain": [
       "<Figure size 1008x288 with 1 Axes>"
      ]
     },
     "metadata": {
      "needs_background": "light"
     },
     "output_type": "display_data"
    },
    {
     "data": {
      "image/png": "[encoded data removed]",
      "text/plain": [
       "<Figure size 1008x288 with 1 Axes>"
      ]
     },
     "metadata": {
      "needs_background": "light"
     },
     "output_type": "display_data"
    },
    {
     "data": {
      "image/png": "[encoded data removed]",
      "text/plain": [
       "<Figure size 1008x288 with 1 Axes>"
      ]
     },
     "metadata": {
      "needs_background": "light"
     },
     "output_type": "display_data"
    },
    {
     "data": {
      "image/png": "[encoded data removed]",
      "text/plain": [
       "<Figure size 1008x288 with 1 Axes>"
      ]
     },
     "metadata": {
      "needs_background": "light"
     },
     "output_type": "display_data"
    }
   ],
   "source": [
    "# to find the relation among every diseases and life stage.\n",
    "\n",
    "for i in ['hipertension', 'diabetes', 'alcoholism', 'handcap']: \n",
    "    illnes_and_life_style(i)"
   ]
  },
  {
   "cell_type": "markdown",
   "id": "119b847a",
   "metadata": {},
   "source": [
    "### Is there a relationship between age of patient and enrollment in Brasilian welfare program Bolsa Família? "
   ]
  },
  {
   "cell_type": "code",
   "execution_count": 260,
   "id": "084a8d51",
   "metadata": {},
   "outputs": [
    {
     "data": {
      "image/png": "[encoded data removed]",
      "text/plain": [
       "<Figure size 432x288 with 1 Axes>"
      ]
     },
     "metadata": {
      "needs_background": "light"
     },
     "output_type": "display_data"
    }
   ],
   "source": [
    "df.groupby('scholarship')['age'].max().plot(kind='bar',rot=0);"
   ]
  },
  {
   "cell_type": "markdown",
   "id": "8f682aca",
   "metadata": {},
   "source": [
    "- We notice that all patients enrolled in the Brasilian welfare program Bolsa Família are younger than 84 years old. "
   ]
  },
  {
   "cell_type": "markdown",
   "id": "3892f828",
   "metadata": {},
   "source": [
    "### Are there any males or females had all diseases ? if yes, How many males and female have all diseases?"
   ]
  },
  {
   "cell_type": "code",
   "execution_count": 261,
   "id": "b2841dc1",
   "metadata": {},
   "outputs": [
    {
     "data": {
      "image/png": "[encoded data removed]",
      "text/plain": [
       "<Figure size 432x288 with 1 Axes>"
      ]
     },
     "metadata": {
      "needs_background": "light"
     },
     "output_type": "display_data"
    }
   ],
   "source": [
    "# make query to get gender have all illness :\n",
    "pat_have_all=df.query(\"handcap>0 and alcoholism >0 and diabetes>0 and hipertension > 0 \") \n",
    "pat_have_all_count=pat_have_all.gender.value_counts() # get the counts femles and males  \n",
    "plt.bar(pat_have_all_count.index,pat_have_all_count.values,width=.4,color=[\"blue\"]);\n",
    " # to write good strings on axis xlabel andd ylabel and title \n",
    "write_text_on_axis(\"Gender\",\"patients number\",\"patients had all diseases\")"
   ]
  },
  {
   "cell_type": "markdown",
   "id": "1adf7d95",
   "metadata": {},
   "source": [
    "- There are about __7__ of males & __6__ of females have all diseases. "
   ]
  },
  {
   "cell_type": "markdown",
   "id": "f8d1d59a",
   "metadata": {},
   "source": [
    " ### Is the scholarship related with a specific patients feature or even an illness?"
   ]
  },
  {
   "cell_type": "code",
   "execution_count": 262,
   "id": "14211693",
   "metadata": {},
   "outputs": [
    {
     "data": {
      "image/png": "[encoded data removed]",
      "text/plain": [
       "<Figure size 432x288 with 1 Axes>"
      ]
     },
     "metadata": {
      "needs_background": "light"
     },
     "output_type": "display_data"
    },
    {
     "data": {
      "image/png": "[encoded data removed]",
      "text/plain": [
       "<Figure size 432x288 with 1 Axes>"
      ]
     },
     "metadata": {
      "needs_background": "light"
     },
     "output_type": "display_data"
    },
    {
     "data": {
      "image/png": "[encoded data removed]",
      "text/plain": [
       "<Figure size 432x288 with 1 Axes>"
      ]
     },
     "metadata": {
      "needs_background": "light"
     },
     "output_type": "display_data"
    },
    {
     "data": {
      "image/png": "[encoded data removed]",
      "text/plain": [
       "<Figure size 432x288 with 1 Axes>"
      ]
     },
     "metadata": {
      "needs_background": "light"
     },
     "output_type": "display_data"
    },
    {
     "data": {
      "image/png": "[encoded data removed]",
      "text/plain": [
       "<Figure size 432x288 with 1 Axes>"
      ]
     },
     "metadata": {
      "needs_background": "light"
     },
     "output_type": "display_data"
    },
    {
     "data": {
      "image/png": "[encoded data removed]",
      "text/plain": [
       "<Figure size 432x288 with 1 Axes>"
      ]
     },
     "metadata": {
      "needs_background": "light"
     },
     "output_type": "display_data"
    },
    {
     "data": {
      "image/png": "[encoded data removed]",
      "text/plain": [
       "<Figure size 432x288 with 1 Axes>"
      ]
     },
     "metadata": {
      "needs_background": "light"
     },
     "output_type": "display_data"
    },
    {
     "data": {
      "image/png": "[encoded data removed]",
      "text/plain": [
       "<Figure size 432x288 with 1 Axes>"
      ]
     },
     "metadata": {
      "needs_background": "light"
     },
     "output_type": "display_data"
    }
   ],
   "source": [
    "dd = df.query('scholarship == 1')\n",
    "for i in ['gender', 'age', 'hipertension','diabetes','alcoholism','handcap','sms_received','day_difference']:\n",
    "     df.plot(x='scholarship', y=i , kind = 'scatter');"
   ]
  },
  {
   "cell_type": "markdown",
   "id": "3cda8652",
   "metadata": {},
   "source": [
    "- Contrary to expected, scatter plots above  show that the scholarship is completely unrelated to any specific feature of patients."
   ]
  },
  {
   "cell_type": "markdown",
   "id": "aca1141d",
   "metadata": {},
   "source": [
    "### What is the ratio of people attending and missing appointment?"
   ]
  },
  {
   "cell_type": "code",
   "execution_count": 263,
   "id": "db516be9",
   "metadata": {},
   "outputs": [
    {
     "data": {
      "image/png": "[encoded data removed]",
      "text/plain": [
       "<Figure size 500x500 with 1 Axes>"
      ]
     },
     "metadata": {},
     "output_type": "display_data"
    }
   ],
   "source": [
    "plt.figure(dpi=100);\n",
    "b = df.no_show.value_counts()\n",
    "b.index = ['showed', \"didn't show\"]\n",
    "b.plot(kind='pie', autopct='%1.1f%%', figsize=(5,5), title='Patient status', label='');"
   ]
  },
  {
   "cell_type": "markdown",
   "id": "b0ae4eee",
   "metadata": {},
   "source": [
    "### Does waiting time interval have any affect on people showing up for appointment?"
   ]
  },
  {
   "cell_type": "code",
   "execution_count": 264,
   "id": "eb6e0acd",
   "metadata": {},
   "outputs": [
    {
     "data": {
      "image/png": "[encoded data removed]",
      "text/plain": [
       "<Figure size 432x288 with 1 Axes>"
      ]
     },
     "metadata": {
      "needs_background": "light"
     },
     "output_type": "display_data"
    }
   ],
   "source": [
    "df.plot(x='no_show', y='day_difference', kind='scatter');\n",
    "\n",
    "# no correlation, waiting time has no affect on showing up to appointment .\n"
   ]
  },
  {
   "cell_type": "markdown",
   "id": "6b6e663f",
   "metadata": {},
   "source": [
    "- According to analysis, there is no correlation between waiting time and patient showing up their appointment."
   ]
  },
  {
   "cell_type": "markdown",
   "id": "f6b03309",
   "metadata": {},
   "source": [
    "### Is sms recieved related with a specific diesease?"
   ]
  },
  {
   "cell_type": "code",
   "execution_count": 265,
   "id": "dea428d3",
   "metadata": {},
   "outputs": [
    {
     "data": {
      "image/png": "[encoded data removed]",
      "text/plain": [
       "<Figure size 630x420 with 1 Axes>"
      ]
     },
     "metadata": {
      "needs_background": "light"
     },
     "output_type": "display_data"
    }
   ],
   "source": [
    "plt.figure(dpi=105);\n",
    "hyper_sms = df.query(\"sms_received>0 and hipertension>0 \").hipertension.count()/1000\n",
    "handcap_sms = df.query(\"sms_received > 0 and handcap>0 \").handcap.count()/1000\n",
    "diabet_sms =  df.query(\"sms_received>0 and diabetes>0 \").sms_received.count()/1000\n",
    "alco_sms = df.query(\"sms_received>0 and alcoholism>0\").alcoholism.count()/1000\n",
    "plt.bar(['hipertension' , 'handcap' , 'diabetes' , 'alcoholism'], [hyper_sms , handcap_sms ,diabet_sms , alco_sms]);\n",
    "plt.title(\"Relationship between sms recieved and deseases\");\n",
    "plt.xlabel(\"Diseases\");\n",
    "plt.ylabel(\"Patients recieved sms (thousand)\");"
   ]
  },
  {
   "cell_type": "markdown",
   "id": "4374f412",
   "metadata": {},
   "source": [
    "## let's focus on the patients who missed their scheduled appointments :"
   ]
  },
  {
   "cell_type": "code",
   "execution_count": 266,
   "id": "d375cfd4",
   "metadata": {},
   "outputs": [
    {
     "data": {
      "text/html": [
       "<div>\n",
       "<style scoped>\n",
       "    .dataframe tbody tr th:only-of-type {\n",
       "        vertical-align: middle;\n",
       "    }\n",
       "\n",
       "    .dataframe tbody tr th {\n",
       "        vertical-align: top;\n",
       "    }\n",
       "\n",
       "    .dataframe thead th {\n",
       "        text-align: right;\n",
       "    }\n",
       "</style>\n",
       "<table border=\"1\" class=\"dataframe\">\n",
       "  <thead>\n",
       "    <tr style=\"text-align: right;\">\n",
       "      <th></th>\n",
       "      <th>patient_id</th>\n",
       "      <th>appointment_id</th>\n",
       "      <th>gender</th>\n",
       "      <th>scheduled_day</th>\n",
       "      <th>appointment_day</th>\n",
       "      <th>age</th>\n",
       "      <th>life_stage</th>\n",
       "      <th>neighbourhood</th>\n",
       "      <th>day_difference</th>\n",
       "      <th>scholarship</th>\n",
       "      <th>hipertension</th>\n",
       "      <th>diabetes</th>\n",
       "      <th>alcoholism</th>\n",
       "      <th>handcap</th>\n",
       "      <th>sms_received</th>\n",
       "      <th>no_show</th>\n",
       "    </tr>\n",
       "  </thead>\n",
       "  <tbody>\n",
       "    <tr>\n",
       "      <th>0</th>\n",
       "      <td>733688164476661</td>\n",
       "      <td>5630279</td>\n",
       "      <td>female</td>\n",
       "      <td>2016-04-27</td>\n",
       "      <td>2016-04-29</td>\n",
       "      <td>23</td>\n",
       "      <td>Adult</td>\n",
       "      <td>GOIABEIRAS</td>\n",
       "      <td>2</td>\n",
       "      <td>0</td>\n",
       "      <td>0</td>\n",
       "      <td>0</td>\n",
       "      <td>0</td>\n",
       "      <td>0</td>\n",
       "      <td>0</td>\n",
       "      <td>Yes</td>\n",
       "    </tr>\n",
       "    <tr>\n",
       "      <th>1</th>\n",
       "      <td>3449833394123</td>\n",
       "      <td>5630575</td>\n",
       "      <td>female</td>\n",
       "      <td>2016-04-27</td>\n",
       "      <td>2016-04-29</td>\n",
       "      <td>39</td>\n",
       "      <td>Adult</td>\n",
       "      <td>GOIABEIRAS</td>\n",
       "      <td>2</td>\n",
       "      <td>0</td>\n",
       "      <td>0</td>\n",
       "      <td>0</td>\n",
       "      <td>0</td>\n",
       "      <td>0</td>\n",
       "      <td>0</td>\n",
       "      <td>Yes</td>\n",
       "    </tr>\n",
       "    <tr>\n",
       "      <th>2</th>\n",
       "      <td>7542951368435</td>\n",
       "      <td>5620163</td>\n",
       "      <td>male</td>\n",
       "      <td>2016-04-26</td>\n",
       "      <td>2016-04-29</td>\n",
       "      <td>29</td>\n",
       "      <td>Adult</td>\n",
       "      <td>NOVA PALESTINA</td>\n",
       "      <td>3</td>\n",
       "      <td>0</td>\n",
       "      <td>0</td>\n",
       "      <td>0</td>\n",
       "      <td>0</td>\n",
       "      <td>0</td>\n",
       "      <td>1</td>\n",
       "      <td>Yes</td>\n",
       "    </tr>\n",
       "    <tr>\n",
       "      <th>3</th>\n",
       "      <td>14794966191172</td>\n",
       "      <td>5633460</td>\n",
       "      <td>female</td>\n",
       "      <td>2016-04-28</td>\n",
       "      <td>2016-04-29</td>\n",
       "      <td>40</td>\n",
       "      <td>Middle Age Adult</td>\n",
       "      <td>CONQUISTA</td>\n",
       "      <td>1</td>\n",
       "      <td>1</td>\n",
       "      <td>0</td>\n",
       "      <td>0</td>\n",
       "      <td>0</td>\n",
       "      <td>0</td>\n",
       "      <td>0</td>\n",
       "      <td>Yes</td>\n",
       "    </tr>\n",
       "    <tr>\n",
       "      <th>4</th>\n",
       "      <td>622257462899397</td>\n",
       "      <td>5626083</td>\n",
       "      <td>female</td>\n",
       "      <td>2016-04-27</td>\n",
       "      <td>2016-04-29</td>\n",
       "      <td>30</td>\n",
       "      <td>Adult</td>\n",
       "      <td>NOVA PALESTINA</td>\n",
       "      <td>2</td>\n",
       "      <td>0</td>\n",
       "      <td>0</td>\n",
       "      <td>0</td>\n",
       "      <td>0</td>\n",
       "      <td>0</td>\n",
       "      <td>0</td>\n",
       "      <td>Yes</td>\n",
       "    </tr>\n",
       "  </tbody>\n",
       "</table>\n",
       "</div>"
      ],
      "text/plain": [
       "        patient_id  appointment_id  gender scheduled_day appointment_day  age  \\\n",
       "0  733688164476661         5630279  female    2016-04-27      2016-04-29   23   \n",
       "1    3449833394123         5630575  female    2016-04-27      2016-04-29   39   \n",
       "2    7542951368435         5620163    male    2016-04-26      2016-04-29   29   \n",
       "3   14794966191172         5633460  female    2016-04-28      2016-04-29   40   \n",
       "4  622257462899397         5626083  female    2016-04-27      2016-04-29   30   \n",
       "\n",
       "         life_stage   neighbourhood  day_difference  scholarship  \\\n",
       "0             Adult      GOIABEIRAS               2            0   \n",
       "1             Adult      GOIABEIRAS               2            0   \n",
       "2             Adult  NOVA PALESTINA               3            0   \n",
       "3  Middle Age Adult       CONQUISTA               1            1   \n",
       "4             Adult  NOVA PALESTINA               2            0   \n",
       "\n",
       "   hipertension  diabetes  alcoholism  handcap  sms_received no_show  \n",
       "0             0         0           0        0             0     Yes  \n",
       "1             0         0           0        0             0     Yes  \n",
       "2             0         0           0        0             1     Yes  \n",
       "3             0         0           0        0             0     Yes  \n",
       "4             0         0           0        0             0     Yes  "
      ]
     },
     "execution_count": 266,
     "metadata": {},
     "output_type": "execute_result"
    }
   ],
   "source": [
    "# get new dataframe with people who missed their appointment \n",
    "df_no_show = df[df['no_show'] == 'Yes']\n",
    "df_no_show = df_no_show.reset_index()\n",
    "df_no_show.head()"
   ]
  },
  {
   "cell_type": "markdown",
   "id": "4cb437fe",
   "metadata": {},
   "source": [
    "### What percentages of males and females missed appointments?"
   ]
  },
  {
   "cell_type": "code",
   "execution_count": 267,
   "id": "7bad267a",
   "metadata": {},
   "outputs": [
    {
     "data": {
      "image/png": "[encoded data removed]",
      "text/plain": [
       "<Figure size 525x525 with 1 Axes>"
      ]
     },
     "metadata": {},
     "output_type": "display_data"
    }
   ],
   "source": [
    "plt.figure(dpi=105);\n",
    "df_no_show.gender.value_counts().plot(kind='pie', label = '' ,\n",
    "                         title = 'Gender missed appointments',autopct=\"%.1f%%\", figsize=(5,5));\n"
   ]
  },
  {
   "cell_type": "markdown",
   "id": "694949a2",
   "metadata": {},
   "source": [
    "- Female patients seem to be missing their appointments more than males, which is predicted because the number of females is almost twice that of males in all the dataset."
   ]
  },
  {
   "cell_type": "markdown",
   "id": "8d1ccec6",
   "metadata": {},
   "source": [
    "### When, month and week-day, do they miss their appointments?"
   ]
  },
  {
   "cell_type": "code",
   "execution_count": 268,
   "id": "ca934a1e",
   "metadata": {},
   "outputs": [
    {
     "data": {
      "text/plain": [
       "0        April\n",
       "1        April\n",
       "2        April\n",
       "3        April\n",
       "4        April\n",
       "         ...  \n",
       "22314     June\n",
       "22315     June\n",
       "22316     June\n",
       "22317     June\n",
       "22318     June\n",
       "Name: month_name, Length: 22319, dtype: object"
      ]
     },
     "execution_count": 268,
     "metadata": {},
     "output_type": "execute_result"
    }
   ],
   "source": [
    "df_no_show['month_name'] = df_no_show['scheduled_day'].dt.month_name()\n",
    "df_no_show['month_name']"
   ]
  },
  {
   "cell_type": "code",
   "execution_count": 269,
   "id": "5e8f8038",
   "metadata": {},
   "outputs": [
    {
     "data": {
      "image/png": "[encoded data removed]",
      "text/plain": [
       "<Figure size 500x500 with 1 Axes>"
      ]
     },
     "metadata": {},
     "output_type": "display_data"
    }
   ],
   "source": [
    "df_no_show['week_day'] = df_no_show.month_name.apply(lambda x:x if x in ['April', 'March','May','June' ] else \"others\")\n",
    "plt.figure(dpi=100)\n",
    "df_no_show.week_day.value_counts().plot(kind = 'pie', autopct='%1.1f%%', figsize=(5,5), label = ' ',title='Months of missed appointments');\n"
   ]
  },
  {
   "cell_type": "markdown",
   "id": "ed698020",
   "metadata": {},
   "source": [
    "- Maybe people in __Brazil__ are so busy in __May__ and __April__ that they missed their scheduled appointments."
   ]
  },
  {
   "cell_type": "code",
   "execution_count": 270,
   "id": "1d29ce02",
   "metadata": {},
   "outputs": [
    {
     "data": {
      "image/png": "[encoded data removed]",
      "text/plain": [
       "<Figure size 600x600 with 1 Axes>"
      ]
     },
     "metadata": {},
     "output_type": "display_data"
    }
   ],
   "source": [
    "plt.figure(dpi=100)\n",
    "df_no_show['scheduled_day'].dt.day_name().value_counts().plot(kind='pie', label='', autopct='%1.1f%%', figsize=(6,6), title='Days of missed appointments');\n",
    "# weekend: saturday, sunday\n",
    "# almost no one cancels appointment on weekend"
   ]
  },
  {
   "cell_type": "markdown",
   "id": "73137b5a",
   "metadata": {},
   "source": [
    "- In Brazil, the weekend is Saturday and Sunday when there are almost no canceled appointments on weekends."
   ]
  },
  {
   "cell_type": "markdown",
   "id": "9cc94180",
   "metadata": {},
   "source": [
    "### What maximum and minimum appointment month patients have an appointment in hostpital? Which hospital has maximum number of appointments that day?\n"
   ]
  },
  {
   "cell_type": "code",
   "execution_count": 271,
   "id": "5701f3f1",
   "metadata": {},
   "outputs": [
    {
     "name": "stdout",
     "output_type": "stream",
     "text": [
      "The most crowded month is May which has 67421 visits.\n"
     ]
    }
   ],
   "source": [
    "df['month_show'] = df['scheduled_day'].dt.month_name()\n",
    "month_count = df.month_show.value_counts()\n",
    "print(f\"The most crowded month is {month_count.idxmax()} which has {month_count.max()} visits.\")"
   ]
  },
  {
   "cell_type": "code",
   "execution_count": 272,
   "id": "43ac9139",
   "metadata": {},
   "outputs": [
    {
     "name": "stdout",
     "output_type": "stream",
     "text": [
      "The most crowded neighbourhood is JARDIM CAMBURI.\n"
     ]
    }
   ],
   "source": [
    "a = df.groupby([\"month_show\",\"neighbourhood\"]).count().sort_values(by=\"appointment_id\")[-1:].index\n",
    "print(f\"The most crowded neighbourhood is {a[0][1]}.\")"
   ]
  },
  {
   "cell_type": "markdown",
   "id": "3c9fe30d",
   "metadata": {},
   "source": [
    "### Is there a relationship between age of patient and enrollment in Brasilian welfare program Bolsa Família?"
   ]
  },
  {
   "cell_type": "code",
   "execution_count": 273,
   "id": "dcc7cf47",
   "metadata": {},
   "outputs": [
    {
     "data": {
      "image/png": "[encoded data removed]",
      "text/plain": [
       "<Figure size 600x400 with 1 Axes>"
      ]
     },
     "metadata": {
      "needs_background": "light"
     },
     "output_type": "display_data"
    }
   ],
   "source": [
    "plt.figure(dpi=100)\n",
    "\n",
    "df.groupby('scholarship')['age'].max().plot(kind='bar',rot=0);"
   ]
  },
  {
   "cell_type": "markdown",
   "id": "b23d5244",
   "metadata": {},
   "source": [
    "- All patients enrolled in the Brasilian welfare program __Bolsa Família__ are younger than __84__ years old."
   ]
  },
  {
   "cell_type": "markdown",
   "id": "50e5d1fe",
   "metadata": {},
   "source": [
    "# Findings: \n",
    "   This dataset collects information from __100k__ medical appointments in Brazil. It provide us information about patient ID, Gender of patient (Male or Female), the day patient registered an appointment(Scheduled day),the day when patient have to visit the doctor(Appointment day), Age of patient , Neighbourhood (where patient will visit doctor ) , Scholarship (indicates whether or not the patient is enrolled in Brasilian welfare program Bolsa Família.) , chornic Diseases (hypertension , diabetes , handcap , alcoholism).\n",
    "\n",
    "        from expoloring data , we found that 71,839(about 65%) from patients are female and other are male (38,687).Age of patients range from 0 and 115. Average age is about 38 years old. We split age into groups, about 27.2% of patients are middle age adult( 40-59 y), 26.1 % are adult(20-39 y) and 19.2% are senior adult(60+) and about 27.6% are less than 18 year old. we exclude patient with age -1 from analysis , and patient with age 115 (outlier).\n",
    "Contrary to expected ,the scholarship is completely unrelated to any specific feature of patients. Maybe, it is related with financial status of patient. 79.8% from total patients showed up to their appointment, only 20.2% did not show up their appointment.  \n",
    "\n",
    "The most disease is more common among patients _specially senior adult_ is __Hypertension__, then diabetes and alcoholism but the last is more common among middle age adult.  \n",
    "\n",
    "About __21%__ of patients who showed up thier appointment went more than once. there are __7__ males and __6__ females had all chornic diseases.and that mean, they are about to die. Also we found that SMS recieved by patients is more common among people with __Hypertension.__ it may be related with this specific diseases only or may be not, I think it is not related with hypertension because this disease is more common among patients than others.\n",
    "\n",
    "It's important to discuss the neighbourhood and explore when and where it's more crowded to be solved later. Firstly , we found that the day of 2016-06-6 have maximum number of appointments, it is about 4692. the neighbourhood had maximum capacity is Jardim Camburi. The most month had a pressure in hospitals was May with precentage about 72.6% so, we think that number of people who work in hosiptal should be increased.\n",
    "\n",
    "Finally, We found that average of waiting time of people who did not show for their appointment is more than waiting time of \n",
    "patients showing up.All patients enrolled in the Brasilian welfare program Bolsa Família are younger than 84 years old.\n"
   ]
  },
  {
   "cell_type": "code",
   "execution_count": null,
   "id": "0ec10102",
   "metadata": {},
   "outputs": [],
   "source": []
  }
 ],
 "metadata": {
  "kernelspec": {
   "display_name": "Python 3 (ipykernel)",
   "language": "python",
   "name": "python3"
  },
  "language_info": {
   "codemirror_mode": {
    "name": "ipython",
    "version": 3
   },
   "file_extension": ".py",
   "mimetype": "text/x-python",
   "name": "python",
   "nbconvert_exporter": "python",
   "pygments_lexer": "ipython3",
   "version": "3.9.7"
  }
 },
 "nbformat": 4,
 "nbformat_minor": 5
}
